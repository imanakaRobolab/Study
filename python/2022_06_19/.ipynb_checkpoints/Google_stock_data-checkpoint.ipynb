{
 "cells": [
  {
   "cell_type": "code",
   "execution_count": 22,
   "id": "42f2c8c7",
   "metadata": {},
   "outputs": [],
   "source": [
    "# --*-- encoding : utf-8 --*--\n",
    "# pandasのインポート\n",
    "import pandas\n",
    "import matplotlib.pyplot as plt"
   ]
  },
  {
   "cell_type": "code",
   "execution_count": 17,
   "id": "33896b77",
   "metadata": {},
   "outputs": [
    {
     "name": "stdout",
     "output_type": "stream",
     "text": [
      "<class 'pandas.core.frame.DataFrame'>\n",
      "RangeIndex: 252 entries, 0 to 251\n",
      "Data columns (total 7 columns):\n",
      " #   Column     Non-Null Count  Dtype         \n",
      "---  ------     --------------  -----         \n",
      " 0   Date       252 non-null    datetime64[ns]\n",
      " 1   Open       252 non-null    float64       \n",
      " 2   High       252 non-null    float64       \n",
      " 3   Low        252 non-null    float64       \n",
      " 4   Close      252 non-null    float64       \n",
      " 5   Adj Close  252 non-null    float64       \n",
      " 6   Volume     252 non-null    int64         \n",
      "dtypes: datetime64[ns](1), float64(5), int64(1)\n",
      "memory usage: 13.9 KB\n"
     ]
    },
    {
     "data": {
      "text/html": [
       "<div>\n",
       "<style scoped>\n",
       "    .dataframe tbody tr th:only-of-type {\n",
       "        vertical-align: middle;\n",
       "    }\n",
       "\n",
       "    .dataframe tbody tr th {\n",
       "        vertical-align: top;\n",
       "    }\n",
       "\n",
       "    .dataframe thead th {\n",
       "        text-align: right;\n",
       "    }\n",
       "</style>\n",
       "<table border=\"1\" class=\"dataframe\">\n",
       "  <thead>\n",
       "    <tr style=\"text-align: right;\">\n",
       "      <th></th>\n",
       "      <th>Open</th>\n",
       "      <th>High</th>\n",
       "      <th>Low</th>\n",
       "      <th>Close</th>\n",
       "      <th>Adj Close</th>\n",
       "      <th>Volume</th>\n",
       "      <th>day</th>\n",
       "      <th>quarter</th>\n",
       "    </tr>\n",
       "    <tr>\n",
       "      <th>year</th>\n",
       "      <th></th>\n",
       "      <th></th>\n",
       "      <th></th>\n",
       "      <th></th>\n",
       "      <th></th>\n",
       "      <th></th>\n",
       "      <th></th>\n",
       "      <th></th>\n",
       "    </tr>\n",
       "  </thead>\n",
       "  <tbody>\n",
       "    <tr>\n",
       "      <th>2021</th>\n",
       "      <td>2805.651845</td>\n",
       "      <td>2828.254412</td>\n",
       "      <td>2782.683777</td>\n",
       "      <td>2806.748754</td>\n",
       "      <td>2806.748754</td>\n",
       "      <td>1.082981e+06</td>\n",
       "      <td>16.375000</td>\n",
       "      <td>3.411765</td>\n",
       "    </tr>\n",
       "    <tr>\n",
       "      <th>2022</th>\n",
       "      <td>2565.600695</td>\n",
       "      <td>2600.049935</td>\n",
       "      <td>2526.508030</td>\n",
       "      <td>2560.097768</td>\n",
       "      <td>2560.097768</td>\n",
       "      <td>1.573441e+06</td>\n",
       "      <td>14.715517</td>\n",
       "      <td>1.465517</td>\n",
       "    </tr>\n",
       "  </tbody>\n",
       "</table>\n",
       "</div>"
      ],
      "text/plain": [
       "             Open         High          Low        Close    Adj Close  \\\n",
       "year                                                                    \n",
       "2021  2805.651845  2828.254412  2782.683777  2806.748754  2806.748754   \n",
       "2022  2565.600695  2600.049935  2526.508030  2560.097768  2560.097768   \n",
       "\n",
       "            Volume        day   quarter  \n",
       "year                                     \n",
       "2021  1.082981e+06  16.375000  3.411765  \n",
       "2022  1.573441e+06  14.715517  1.465517  "
      ]
     },
     "execution_count": 17,
     "metadata": {},
     "output_type": "execute_result"
    }
   ],
   "source": [
    "# Dataのインポート\n",
    "# CSVファイルのインポート\n",
    "df = pandas.read_csv('./data_src/GOOG.csv')\n",
    "# Date列の変換\n",
    "df['Date'] = pandas.to_datetime(df['Date'])\n",
    "df.info()\n",
    "# Date列をインデックスにする\n",
    "df.index = df['Date']\n",
    "df.head()\n",
    "\n",
    "# year列とday列とquerter列の追加\n",
    "df['year'] = df['Date'].dt.year\n",
    "df['day'] = df['Date'].dt.day\n",
    "df['quarter'] = df['Date'].dt.quarter\n",
    "\n",
    "# 各年ごとの平均（会計年度でないから意味がないかもだが）\n",
    "df.groupby('year').mean()"
   ]
  },
  {
   "cell_type": "code",
   "execution_count": 29,
   "id": "8e791d70",
   "metadata": {},
   "outputs": [
    {
     "name": "stdout",
     "output_type": "stream",
     "text": [
      "DatetimeIndex(['2022-03-01', '2022-03-02', '2022-03-03', '2022-03-04',\n",
      "               '2022-03-07', '2022-03-08', '2022-03-09', '2022-03-10',\n",
      "               '2022-03-11', '2022-03-14', '2022-03-15', '2022-03-16',\n",
      "               '2022-03-17', '2022-03-18', '2022-03-21', '2022-03-22',\n",
      "               '2022-03-23', '2022-03-24', '2022-03-25', '2022-03-28',\n",
      "               '2022-03-29', '2022-03-30', '2022-03-31', '2022-04-01',\n",
      "               '2022-04-04', '2022-04-05', '2022-04-06', '2022-04-07',\n",
      "               '2022-04-08', '2022-04-11', '2022-04-12', '2022-04-13',\n",
      "               '2022-04-14', '2022-04-15', '2022-04-18', '2022-04-19',\n",
      "               '2022-04-20', '2022-04-21', '2022-04-22', '2022-04-25',\n",
      "               '2022-04-26', '2022-04-27', '2022-04-28', '2022-04-29',\n",
      "               '2022-05-02', '2022-05-03', '2022-05-04', '2022-05-05',\n",
      "               '2022-05-06', '2022-05-09', '2022-05-10', '2022-05-11',\n",
      "               '2022-05-12', '2022-05-13', '2022-05-16', '2022-05-17',\n",
      "               '2022-05-18', '2022-05-19', '2022-05-20', '2022-05-23',\n",
      "               '2022-05-24', '2022-05-25', '2022-05-26', '2022-05-27',\n",
      "               '2022-05-30', '2022-05-31', '2022-06-01'],\n",
      "              dtype='datetime64[ns]', freq='B')\n"
     ]
    }
   ],
   "source": [
    "# Dateの作成\n",
    "print(pandas.date_range('2022-03-01','2022-06-01',freq = 'B'))"
   ]
  },
  {
   "cell_type": "code",
   "execution_count": 28,
   "id": "6dc07758",
   "metadata": {},
   "outputs": [
    {
     "data": {
      "text/plain": [
       "[<matplotlib.lines.Line2D at 0x1473ad98fd0>]"
      ]
     },
     "execution_count": 28,
     "metadata": {},
     "output_type": "execute_result"
    },
    {
     "data": {
      "image/png": "[encoded data removed]",
      "text/plain": [
       "<Figure size 432x288 with 1 Axes>"
      ]
     },
     "metadata": {
      "needs_background": "light"
     },
     "output_type": "display_data"
    }
   ],
   "source": [
    "plt.plot(df['Date'],df['Open'],'o')\n",
    "plt.plot(df['Date'],df['High'],'o')\n",
    "plt.plot(df['Date'],df['Low'],'o')\n",
    "plt.plot(df['Date'],df['Close'],'o')"
   ]
  },
  {
   "cell_type": "code",
   "execution_count": 35,
   "id": "c9f0853b",
   "metadata": {},
   "outputs": [
    {
     "ename": "NameError",
     "evalue": "name 'conter' is not defined",
     "output_type": "error",
     "traceback": [
      "\u001b[1;31m---------------------------------------------------------------------------\u001b[0m",
      "\u001b[1;31mNameError\u001b[0m                                 Traceback (most recent call last)",
      "Input \u001b[1;32mIn [35]\u001b[0m, in \u001b[0;36m<cell line: 1>\u001b[1;34m()\u001b[0m\n\u001b[0;32m     16\u001b[0m     \u001b[38;5;28;01melse\u001b[39;00m :\n\u001b[0;32m     17\u001b[0m         data_js\u001b[38;5;241m.\u001b[39mwrite(\u001b[38;5;124m'\u001b[39m\u001b[38;5;124m\"\u001b[39m\u001b[38;5;132;01m{}\u001b[39;00m\u001b[38;5;124m\"\u001b[39m\u001b[38;5;124m'\u001b[39m\u001b[38;5;241m.\u001b[39mformat(cell)\u001b[38;5;241m+\u001b[39m\u001b[38;5;124m'\u001b[39m\u001b[38;5;124m,\u001b[39m\u001b[38;5;124m'\u001b[39m)\n\u001b[1;32m---> 18\u001b[0m         conter\u001b[38;5;241m+\u001b[39m\u001b[38;5;241m=\u001b[39m\u001b[38;5;241m1\u001b[39m\n\u001b[0;32m     19\u001b[0m \u001b[38;5;28;01mfor\u001b[39;00m cell \u001b[38;5;129;01min\u001b[39;00m Open:\n\u001b[0;32m     20\u001b[0m     \u001b[38;5;28;01mif\u001b[39;00m counter \u001b[38;5;241m==\u001b[39m \u001b[38;5;241m0\u001b[39m :\n",
      "\u001b[1;31mNameError\u001b[0m: name 'conter' is not defined"
     ]
    }
   ],
   "source": [
    "with open('data.js','w') as data_js:\n",
    "    date = df['Date']\n",
    "    Open = df['Open']\n",
    "    High = df['High']\n",
    "    Low = df['Low']\n",
    "    Close = df['Close']\n",
    "    row_size = df.shape[0]\n",
    "    counter = 0\n",
    "    for cell in date:\n",
    "        if counter == 0 :\n",
    "            counter+= 1\n",
    "            data_js.write('let data = ['+'\"{}\"'.format(cell)+',')\n",
    "        elif counter == row_size -1:\n",
    "            counter = 0\n",
    "            data_js.write('\"{}\"'.format(cell)+'];\\n')\n",
    "        else :\n",
    "            data_js.write('\"{}\"'.format(cell)+',')\n",
    "            counter+=1\n",
    "    for cell in Open:\n",
    "        if counter == 0 :\n",
    "            counter+= 1\n",
    "            data_js.write('let open = ['+'\"{}\"'.format(cell)+',')\n",
    "        elif counter == row_size -1:\n",
    "            counter = 0\n",
    "            data_js.write('\"{}\"'.format(cell)+'];\\n')\n",
    "        else :\n",
    "            data_js.write('\"{}\"'.format(cell)+',')\n",
    "            counter+=1\n",
    "    for cell in High:\n",
    "        if counter == 0 :\n",
    "            counter+= 1\n",
    "            data_js.write('let high = ['+'\"{}\"'.format(cell)+',')\n",
    "        elif counter == row_size -1:\n",
    "            counter = 0\n",
    "            data_js.write('\"{}\"'.format(cell)+'];\\n')\n",
    "        else :\n",
    "            data_js.write('\"{}\"'.format(cell)+',')\n",
    "            counter+=1\n",
    "    for cell in Low:\n",
    "        if counter == 0 :\n",
    "            counter+= 1\n",
    "            data_js.write('let low = ['+'\"{}\"'.format(cell)+',')\n",
    "        elif counter == row_size -1:\n",
    "            counter = 0\n",
    "            data_js.write('\"{}\"'.format(cell)+'];\\n')\n",
    "        else :\n",
    "            data_js.write('\"{}\"'.format(cell)+',')\n",
    "            counter+=1\n",
    "    for cell in Close:\n",
    "        if counter == 0 :\n",
    "            counter+= 1\n",
    "            data_js.write('let close = ['+'\"{}\"'.format(cell)+',')\n",
    "        elif counter == row_size -1:\n",
    "            counter = 0\n",
    "            data_js.write('\"{}\"'.format(cell)+'];\\n')\n",
    "        else :\n",
    "            data_js.write('\"{}\"'.format(cell)+',')\n",
    "            counter+=1"
   ]
  }
 ],
 "metadata": {
  "kernelspec": {
   "display_name": "Python 3 (ipykernel)",
   "language": "python",
   "name": "python3"
  },
  "language_info": {
   "codemirror_mode": {
    "name": "ipython",
    "version": 3
   },
   "file_extension": ".py",
   "mimetype": "text/x-python",
   "name": "python",
   "nbconvert_exporter": "python",
   "pygments_lexer": "ipython3",
   "version": "3.10.4"
  }
 },
 "nbformat": 4,
 "nbformat_minor": 5
}
